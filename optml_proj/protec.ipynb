{
 "cells": [
  {
   "cell_type": "code",
   "execution_count": 1,
   "metadata": {},
   "outputs": [],
   "source": [
    "import autoreload\n",
    "\n",
    "%load_ext autoreload\n",
    "%autoreload 2\n",
    "\n",
    "import torch\n",
    "import torchvision\n",
    "import torchvision.transforms as transforms\n",
    "import torch.nn as nn\n",
    "import torch.nn.functional as F\n",
    "import matplotlib\n",
    "import matplotlib.pyplot as plt\n",
    "import numpy as np\n",
    "import torch.optim as optim\n",
    "import time\n",
    "import os\n",
    "from collections import OrderedDict\n",
    "from torch.utils.data import Subset"
   ]
  },
  {
   "cell_type": "code",
   "execution_count": 3,
   "metadata": {},
   "outputs": [],
   "source": [
    "#Majority Vote\n",
    "#https://arxiv.org/pdf/1810.05291.pdf\n",
    "\n",
    "def get_vote(grads):\n",
    "    \"\"\"Grads is a list of vectors coming from the node and its neighbors only, grads[0] = node.grad\"\"\"\n",
    "    V = torch.zeros_like(grad[0])\n",
    "    \n",
    "    for i in grads:\n",
    "        V+=torch.sign(grad[i].clone().detach())\n",
    "    \n",
    "    return V\n",
    "\n",
    "## Final update on every worker as w = w - neta*(V + lambda*w)(lambda = regularization parameter)"
   ]
  },
  {
   "cell_type": "code",
   "execution_count": 24,
   "metadata": {},
   "outputs": [],
   "source": [
    "#Robust SGD, Robust One Round\n",
    "#https://arxiv.org/pdf/1803.01498.pdf\n",
    "\n",
    "\n",
    "def get_statistic(grads, option = 1, beta = 1/3):\n",
    "    \"\"\"option=1 == median, option = 2 == mean\"\"\"\n",
    "    \n",
    "    \n",
    "    V = torch.stack(grads, dim=0)\n",
    "    \n",
    "    if(option ==1):\n",
    "        temp = torch.median(V, dim=0).clone().detach()\n",
    "    else:\n",
    "        m = torch.sort(V, dim=0)[0].clone().detach()\n",
    "        first_index = int(beta*m.size()[0])\n",
    "        last_index = int((1-beta)*m.size()[0])\n",
    "        \n",
    "        total = last_index - first_index\n",
    "        \n",
    "        temp = torch.zeros_like(grads[0])\n",
    "        \n",
    "        if(total > 0):\n",
    "            for i in range(total):\n",
    "                temp+=m[i+first_index]\n",
    "\n",
    "            temp = temp/total\n",
    "    \n",
    "    return temp.clone().detach()"
   ]
  },
  {
   "cell_type": "code",
   "execution_count": 9,
   "metadata": {},
   "outputs": [],
   "source": [
    "a = torch.Tensor([[1,3], [6,4]])\n",
    "b = torch.Tensor([[2,3], [4,5]])\n",
    "V = torch.stack([a,b], dim=0)"
   ]
  },
  {
   "cell_type": "code",
   "execution_count": 21,
   "metadata": {},
   "outputs": [],
   "source": [
    "m = torch.sort(V, dim=0)"
   ]
  },
  {
   "cell_type": "code",
   "execution_count": 23,
   "metadata": {},
   "outputs": [
    {
     "name": "stdout",
     "output_type": "stream",
     "text": [
      "tensor([[1., 3.],\n",
      "        [4., 4.]])\n"
     ]
    }
   ],
   "source": [
    "print(m[0][0])"
   ]
  },
  {
   "cell_type": "code",
   "execution_count": null,
   "metadata": {},
   "outputs": [],
   "source": []
  }
 ],
 "metadata": {
  "kernelspec": {
   "display_name": "torch_env",
   "language": "python",
   "name": "torch_env"
  },
  "language_info": {
   "codemirror_mode": {
    "name": "ipython",
    "version": 3
   },
   "file_extension": ".py",
   "mimetype": "text/x-python",
   "name": "python",
   "nbconvert_exporter": "python",
   "pygments_lexer": "ipython3",
   "version": "3.7.6"
  }
 },
 "nbformat": 4,
 "nbformat_minor": 2
}
