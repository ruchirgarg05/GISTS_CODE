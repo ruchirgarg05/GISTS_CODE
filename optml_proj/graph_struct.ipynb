{
 "cells": [
  {
   "cell_type": "code",
   "execution_count": 0,
   "metadata": {
    "colab": {},
    "colab_type": "code",
    "id": "te9xqsDGE2lh"
   },
   "outputs": [],
   "source": [
    "import autoreload\n",
    "\n",
    "%load_ext autoreload\n",
    "%autoreload 2\n",
    "\n",
    "import torch\n",
    "import torchvision\n",
    "import torchvision.transforms as transforms\n",
    "import torch.nn as nn\n",
    "import torch.nn.functional as F\n",
    "import matplotlib\n",
    "import matplotlib.pyplot as plt\n",
    "import numpy as np\n",
    "import torch.optim as optim\n",
    "import time\n",
    "import os\n",
    "from collections import OrderedDict\n",
    "from torch.utils.data import Subset"
   ]
  },
  {
   "cell_type": "code",
   "execution_count": 2,
   "metadata": {
    "colab": {
     "base_uri": "https://localhost:8080/",
     "height": 121
    },
    "colab_type": "code",
    "id": "TgChRxiYFBk6",
    "outputId": "18ada32e-9385-46e4-d72e-7e69564163be"
   },
   "outputs": [
    {
     "name": "stdout",
     "output_type": "stream",
     "text": [
      "Go to this URL in a browser: https://accounts.google.com/o/oauth2/auth?client_id=947318989803-6bn6qk8qdgf4n4g3pfee6491hc0brc4i.apps.googleusercontent.com&redirect_uri=urn%3aietf%3awg%3aoauth%3a2.0%3aoob&response_type=code&scope=email%20https%3a%2f%2fwww.googleapis.com%2fauth%2fdocs.test%20https%3a%2f%2fwww.googleapis.com%2fauth%2fdrive%20https%3a%2f%2fwww.googleapis.com%2fauth%2fdrive.photos.readonly%20https%3a%2f%2fwww.googleapis.com%2fauth%2fpeopleapi.readonly\n",
      "\n",
      "Enter your authorization code:\n",
      "··········\n",
      "Mounted at /content/drive\n"
     ]
    }
   ],
   "source": [
    "from google.colab import drive\n",
    "drive.mount('/content/drive')\n",
    "\n",
    "import sys\n",
    "sys.path.append('/content/drive/My Drive/Colab Stuff')"
   ]
  },
  {
   "cell_type": "code",
   "execution_count": 0,
   "metadata": {
    "colab": {},
    "colab_type": "code",
    "id": "InGojRP9E2ll"
   },
   "outputs": [],
   "source": [
    "device = torch.device(\"cuda:0\" if torch.cuda.is_available() else \"cpu\")"
   ]
  },
  {
   "cell_type": "code",
   "execution_count": 4,
   "metadata": {
    "colab": {
     "base_uri": "https://localhost:8080/",
     "height": 383,
     "referenced_widgets": [
      "20b99f9c97454dee8e5b39e5caf19a10",
      "d83f73cd6b48425b888c2431e485d871",
      "1be4db375641465b815710864f65f808",
      "c8bb7a34a8ce4e6f80069f75f85c015e",
      "7802d02ed13f4fa49619ef8b1d3e8239",
      "dde321ffb3004f6884107197737a0e0b",
      "76ada2b264d748e7a73b4e80d3e257d5",
      "d619b55a886048dc95de4f0263183f1c",
      "b559004e2a3c4917bf36fbe0e207a993",
      "c7cf6829c41d4e0a9a42f9e301c9d035",
      "43b7da2ec91d436ebba5e9045af64e45",
      "095a1fec36ad43ecb0a69340135d0839",
      "19b70b44692b460e9a867f3954c1e168",
      "28283dc5809e458db823a73fdd4e9e2a",
      "aa1d2ad1559b40b5a0d962f641fab92b",
      "f2f35779a0014ba295c3168585998064",
      "8b8f8b55dc4646a6b95b0b43f50cdfb5",
      "09d15bd07085463bb5ea546d208bcf75",
      "8679b4a9c94d4766874fcfa001c98871",
      "bfb7642b094a4055800c1e1e50d347ff",
      "8442e18f6b6a4ffea434aa8b154fc93f",
      "ebddeed037984916a38c5283aaa526d7",
      "103d832d5f6e4b41817160998e709095",
      "97f25ff6ebbf4602829d04dd0c6e2505",
      "05d9d1ffed2f49dd8608a3391d00c174",
      "7b81ae30af174af3a9c47d2c8ebd66d6",
      "14a2cb8716cd420ea6baf8f161f18cb4",
      "4349c86a6d1d49db830b2b6342a30331",
      "7e8125328ab9476096f17641cf3183d1",
      "c23bdfb8094b4e1fbaee13ea8919bc98",
      "9bc5bb3ea94240aabc756be86ed88a09",
      "a04648081892413ea2c8e190bcd5bce4"
     ]
    },
    "colab_type": "code",
    "id": "8ECLdtPXE2ln",
    "outputId": "271fafcc-1a21-412f-b4df-a8c66e9c3ccb"
   },
   "outputs": [
    {
     "name": "stdout",
     "output_type": "stream",
     "text": [
      "Downloading http://yann.lecun.com/exdb/mnist/train-images-idx3-ubyte.gz to ./data/MNIST/raw/train-images-idx3-ubyte.gz\n"
     ]
    },
    {
     "data": {
      "application/vnd.jupyter.widget-view+json": {
       "model_id": "20b99f9c97454dee8e5b39e5caf19a10",
       "version_major": 2,
       "version_minor": 0
      },
      "text/plain": [
       "HBox(children=(FloatProgress(value=1.0, bar_style='info', max=1.0), HTML(value='')))"
      ]
     },
     "metadata": {
      "tags": []
     },
     "output_type": "display_data"
    },
    {
     "name": "stdout",
     "output_type": "stream",
     "text": [
      "Extracting ./data/MNIST/raw/train-images-idx3-ubyte.gz to ./data/MNIST/raw\n",
      "Downloading http://yann.lecun.com/exdb/mnist/train-labels-idx1-ubyte.gz to ./data/MNIST/raw/train-labels-idx1-ubyte.gz\n"
     ]
    },
    {
     "data": {
      "application/vnd.jupyter.widget-view+json": {
       "model_id": "b559004e2a3c4917bf36fbe0e207a993",
       "version_major": 2,
       "version_minor": 0
      },
      "text/plain": [
       "HBox(children=(FloatProgress(value=1.0, bar_style='info', max=1.0), HTML(value='')))"
      ]
     },
     "metadata": {
      "tags": []
     },
     "output_type": "display_data"
    },
    {
     "name": "stdout",
     "output_type": "stream",
     "text": [
      "Extracting ./data/MNIST/raw/train-labels-idx1-ubyte.gz to ./data/MNIST/raw\n",
      "Downloading http://yann.lecun.com/exdb/mnist/t10k-images-idx3-ubyte.gz to ./data/MNIST/raw/t10k-images-idx3-ubyte.gz\n"
     ]
    },
    {
     "data": {
      "application/vnd.jupyter.widget-view+json": {
       "model_id": "8b8f8b55dc4646a6b95b0b43f50cdfb5",
       "version_major": 2,
       "version_minor": 0
      },
      "text/plain": [
       "HBox(children=(FloatProgress(value=1.0, bar_style='info', max=1.0), HTML(value='')))"
      ]
     },
     "metadata": {
      "tags": []
     },
     "output_type": "display_data"
    },
    {
     "name": "stdout",
     "output_type": "stream",
     "text": [
      "Extracting ./data/MNIST/raw/t10k-images-idx3-ubyte.gz to ./data/MNIST/raw\n",
      "Downloading http://yann.lecun.com/exdb/mnist/t10k-labels-idx1-ubyte.gz to ./data/MNIST/raw/t10k-labels-idx1-ubyte.gz\n",
      "\n",
      "\n"
     ]
    },
    {
     "data": {
      "application/vnd.jupyter.widget-view+json": {
       "model_id": "05d9d1ffed2f49dd8608a3391d00c174",
       "version_major": 2,
       "version_minor": 0
      },
      "text/plain": [
       "HBox(children=(FloatProgress(value=1.0, bar_style='info', max=1.0), HTML(value='')))"
      ]
     },
     "metadata": {
      "tags": []
     },
     "output_type": "display_data"
    },
    {
     "name": "stdout",
     "output_type": "stream",
     "text": [
      "Extracting ./data/MNIST/raw/t10k-labels-idx1-ubyte.gz to ./data/MNIST/raw\n",
      "Processing...\n",
      "Done!\n"
     ]
    },
    {
     "name": "stderr",
     "output_type": "stream",
     "text": [
      "/pytorch/torch/csrc/utils/tensor_numpy.cpp:141: UserWarning: The given NumPy array is not writeable, and PyTorch does not support non-writeable tensors. This means you can write to the underlying (supposedly non-writeable) NumPy array using the tensor. You may want to copy the array to protect its data or make it writeable before converting it to a tensor. This type of warning will be suppressed for the rest of this program.\n"
     ]
    }
   ],
   "source": [
    "transform = transforms.Compose([transforms.ToTensor(),transforms.Normalize((0.5,), (0.5,))])\n",
    "\n",
    "trainset = torchvision.datasets.MNIST(root='./data', train=True,download=True, transform=transform)\n",
    "\n",
    "trainloader = torch.utils.data.DataLoader(trainset, batch_size=8, shuffle=True, num_workers=2)\n",
    "\n",
    "testset = torchvision.datasets.MNIST(root='./data', train=False, download=True, transform=transform)\n",
    "\n",
    "testloader = torch.utils.data.DataLoader(testset, batch_size=8,shuffle=False, num_workers=2)\n",
    "\n",
    "classes = ('0', '1', '2', '3', '4', '5', '6', '7', '8', '9')"
   ]
  },
  {
   "cell_type": "code",
   "execution_count": 0,
   "metadata": {
    "colab": {},
    "colab_type": "code",
    "id": "UIWimHnbE2lp"
   },
   "outputs": [],
   "source": [
    "def trainset_node_split(dataset, N, seed = 0):\n",
    "    np.random.seed(seed)\n",
    "    a = np.arange(len(dataset))\n",
    "    np.random.shuffle(a)\n",
    "    datasets = {}\n",
    "    size = int(len(dataset)/N)\n",
    "    for i in range(N):\n",
    "        datasets[i] = Subset(dataset, a[i*size:(i+1)*size].tolist())\n",
    "    return datasets"
   ]
  },
  {
   "cell_type": "code",
   "execution_count": 0,
   "metadata": {
    "colab": {},
    "colab_type": "code",
    "id": "gT-unbx-qfSm"
   },
   "outputs": [],
   "source": [
    "def count_correct(outputs, labels):\n",
    "    \"\"\" count correct predictions \"\"\"\n",
    "\n",
    "    if isinstance(criterion, nn.BCELoss):\n",
    "        predicted = (outputs > 0.5).to(dtype=torch.int64)\n",
    "        labels = (labels  > 0.5).to(dtype=torch.int64)\n",
    "    elif isinstance(criterion, nn.CrossEntropyLoss):\n",
    "        _, predicted = outputs.max(1)\n",
    "    else:\n",
    "        print('Error in criterion')\n",
    "        raise ValueError\n",
    "\n",
    "    correct = (predicted == labels).sum().item()\n",
    "\n",
    "    return correct\n",
    "\n",
    "def forward_test(model, loader, chosen_device):\n",
    "    \"\"\" forwards test samples and calculates the test accuracy \"\"\"\n",
    "\n",
    "    model.to(chosen_device)\n",
    "    running_losses = 0.0\n",
    "    correct = 0\n",
    "    total = 0\n",
    "    count_batches = 0\n",
    "\n",
    "    with torch.no_grad():\n",
    "\n",
    "        for batch_idx, sample in enumerate(loader):\n",
    "\n",
    "            inputs, labels = sample[0].to(chosen_device), sample[1].to(chosen_device)\n",
    "            #inputs, labels = sample[0], sample[1]\n",
    "            outputs = model(inputs)\n",
    "            \n",
    "            loss = criterion(outputs,labels)\n",
    "            \n",
    "            count_batches += 1\n",
    "\n",
    "            running_losses += loss.item()\n",
    "\n",
    "            correct += count_correct(outputs, labels)\n",
    "            total += labels.size(0)\n",
    "\n",
    "\n",
    "    test_acc  = 100.0 * correct / total\n",
    "    test_loss = running_losses / total\n",
    "\n",
    "    print('\\n=> Test acc  : {:7.3f}%'.format(test_acc))\n",
    "\n",
    "    return test_acc, test_loss"
   ]
  },
  {
   "cell_type": "code",
   "execution_count": 0,
   "metadata": {
    "colab": {},
    "colab_type": "code",
    "id": "UMVrf9ykE2lr"
   },
   "outputs": [],
   "source": [
    "class Net(nn.Module):\n",
    "    def __init__(self):\n",
    "        super(Net, self).__init__()\n",
    "        self.conv1 = nn.Conv2d(1, 6, 5)\n",
    "        #self.bn1 = nn.BatchNorm2d(6)\n",
    "        self.pool = nn.MaxPool2d(2, 2)\n",
    "        self.conv2 = nn.Conv2d(6, 16, 5)\n",
    "        #self.bn2 = nn.BatchNorm2d(16)\n",
    "        self.fc1 = nn.Linear(16 * 4 * 4, 64)\n",
    "        #self.fc2 = nn.Linear(120, 84)\n",
    "        self.fc2 = nn.Linear(64, 10)\n",
    "        self.init_weights()\n",
    "\n",
    "    def forward(self, x):\n",
    "        x = self.pool(F.relu(self.conv1(x)))\n",
    "        x = self.pool(F.relu(self.conv2(x)))\n",
    "        x = x.view(-1, 16 * 4 * 4)\n",
    "        x = F.relu(self.fc1(x))\n",
    "        #x = F.relu(self.fc2(x))\n",
    "        x = self.fc2(x)\n",
    "        return x\n",
    "\n",
    "    def init_weights(self):\n",
    "        \n",
    "        for m in self.modules():\n",
    "\n",
    "            if isinstance(m, nn.Conv2d):\n",
    "                nn.init.kaiming_normal_(m.weight, a=0, mode='fan_out',nonlinearity='relu')\n",
    "\n",
    "            elif isinstance(m, nn.BatchNorm2d):\n",
    "                m.weight.data.fill_(1)\n",
    "                m.bias.data.zero_()\n",
    "\n",
    "            elif isinstance(m, nn.Linear):\n",
    "                m.bias.data.zero_()\n",
    "                torch.nn.init.xavier_uniform_(m.weight)"
   ]
  },
  {
   "cell_type": "code",
   "execution_count": 0,
   "metadata": {
    "colab": {},
    "colab_type": "code",
    "id": "ljKtNuEkE2lt"
   },
   "outputs": [],
   "source": [
    "class Node():\n",
    "    \"\"\"Node(Choco_Gossip): x_i(t+1) = x_i(t) + gamma*Sum(w_ij*[xhat_j(t+1) - xhat_i(t+1)])\"\"\"\n",
    "    \n",
    "    def __init__(self, gamma, loader, batch_size, dataset, model, criterion, chosen_device):\n",
    "        \n",
    "\n",
    "        self.batch_size = batch_size\n",
    "        self.neighbors = []\n",
    "        self.neighbor_wts = {}\n",
    "        \n",
    "        self.step_size = gamma\n",
    "\n",
    "        self.dataset = dataset\n",
    "\n",
    "        self.dataloader = loader\n",
    "        \n",
    "        self.model = model\n",
    "        self.chosen_device = chosen_device\n",
    "        \n",
    "        #self.model.to(self.chosen_device)\n",
    "\n",
    "        self.x_i = OrderedDict()\n",
    "        \n",
    "        self.model_params = []\n",
    "        for (k,v) in self.model.state_dict().items():\n",
    "            \n",
    "            self.model_params.append(k)\n",
    "            self.x_i[k] = v.clone().detach()\n",
    "            \n",
    "        #for a in self.model.parameters():\n",
    "        #    self.x_i.append(a)\n",
    "        \n",
    "        self.criterion = criterion\n",
    "        if self.dataloader is not None:\n",
    "            self.dataiter = iter(self.dataloader)\n",
    "        \n",
    "    \n",
    "    def compute_gradient(self, quantizer=None, ):\n",
    "        \"\"\"Computes nabla(x_i, samples) and returns estimate after quantization\"\"\"\n",
    "        \n",
    "        # Sample batch from loader #\n",
    "        optimizer  = optim.SGD(self.model.parameters(), lr=1e-3)\n",
    "        #for v in self.model.parameters():\n",
    "        #  if v.grad is not None:\n",
    "        #    v.detach_()\n",
    "        #    v.zero_()\n",
    "\n",
    "        optimizer.zero_grad()    \n",
    "\n",
    "        try:\n",
    "            inputs, targets = self.dataiter.next()\n",
    "        except StopIteration:\n",
    "            self.dataiter = iter(self.dataloader)\n",
    "            inputs, targets = self.dataiter.next()\n",
    "\n",
    "        inputs, targets = inputs.to(self.chosen_device), targets.to(self.chosen_device) \n",
    "\n",
    "        self.model.to(self.chosen_device)\n",
    "        outputs = self.model(inputs)\n",
    "\n",
    "\n",
    "        loss = self.criterion(outputs, targets)\n",
    "        \n",
    "        #Equivalent to optimizer.zero_grad()\n",
    "        \n",
    "        \n",
    "        loss.backward()\n",
    "        \n",
    "        gt = OrderedDict()\n",
    "        \n",
    "        \n",
    "        for k,v in enumerate(self.model.parameters()):\n",
    "            if v.grad is not None:\n",
    "                if quantizer is not None:\n",
    "                    gt[k] = quantizer(v.grad.clone().detach_())\n",
    "                else:\n",
    "                    gt[k] = v.grad.clone().detach()\n",
    "        #optimizer.step()\n",
    "    \n",
    "        self.curr_gt = gt\n",
    "        \n",
    "        return\n",
    "    \n",
    "    def assign_params(self, W):\n",
    "        \"\"\"Assign dict W to model\"\"\"\n",
    "        \n",
    "        with torch.no_grad():\n",
    "            self.model.load_state_dict(W, strict=False)\n",
    "        \n",
    "        return\n",
    "    \n",
    "\n",
    "    def update_model(self):\n",
    "        \n",
    "        ### Implement Algorithm ###\n",
    "        \n",
    "        ## Assign Parameters after obtaining Consensus##\n",
    "        \n",
    "        \n",
    "        self.assign_params(self.x_i)\n",
    "        \n",
    "        return\n",
    "\n",
    "\n",
    "    def calc_node_loss(self, testloader, chosen_device):\n",
    "        \"\"\" loss check \"\"\"\n",
    "        \n",
    "        loss_dict = {}\n",
    "\n",
    "        #self.model.to(chosen_device)\n",
    "        trainloader = torch.utils.data.DataLoader(self.dataset, self.batch_size, shuffle=True, num_workers=2)\n",
    "\n",
    "        running_losses = 0.0\n",
    "        correct = 0\n",
    "        total = 0\n",
    "        count_batches = 0\n",
    "\n",
    "        with torch.no_grad():\n",
    "\n",
    "            for batch_idx, sample in enumerate(trainloader):\n",
    "\n",
    "                inputs, labels = sample[0].to(chosen_device), sample[1].to(chosen_device)\n",
    "                #inputs, labels = sample[0], sample[1]\n",
    "                self.model.to(self.chosen_device)\n",
    "                outputs = self.model(inputs)\n",
    "                \n",
    "                loss = criterion(outputs,labels)\n",
    "                \n",
    "                count_batches += 1\n",
    "\n",
    "                running_losses += loss.item()\n",
    "\n",
    "                correct += count_correct(outputs, labels)\n",
    "                total += labels.size(0)\n",
    "\n",
    "                running_losses = running_losses/self.batch_size\n",
    "\n",
    "\n",
    "        loss_dict[\"train_acc\"]  = 100.0 * correct / total\n",
    "        loss_dict[\"train_loss\"] = running_losses / total\n",
    "\n",
    "        running_losses = 0.0\n",
    "        correct = 0\n",
    "        total = 0\n",
    "        count_batches = 0\n",
    "\n",
    "        with torch.no_grad():\n",
    "\n",
    "            for batch_idx, sample in enumerate(testloader):\n",
    "\n",
    "                inputs, labels = sample[0].to(chosen_device), sample[1].to(chosen_device)\n",
    "                #inputs, labels = sample[0], sample[1]\n",
    "                self.model.to(self.chosen_device)\n",
    "                outputs = self.model(inputs)\n",
    "                \n",
    "                loss = criterion(outputs,labels)\n",
    "                \n",
    "                count_batches += 1\n",
    "\n",
    "                running_losses += loss.item()\n",
    "\n",
    "                correct += count_correct(outputs, labels)\n",
    "                total += labels.size(0)\n",
    "\n",
    "                running_losses = running_losses/self.batch_size\n",
    "\n",
    "\n",
    "        loss_dict[\"test_acc\"]  = 100.0 * correct / total\n",
    "        loss_dict[\"test_loss\"] = running_losses / total\n",
    "\n",
    "        #print('\\n=> Test acc  : {:7.3f}%'.format(test_acc))\n",
    "\n",
    "        return loss_dict"
   ]
  },
  {
   "cell_type": "code",
   "execution_count": 0,
   "metadata": {
    "colab": {},
    "colab_type": "code",
    "id": "hgKVqCczE2lv"
   },
   "outputs": [],
   "source": [
    "class Network():\n",
    "    \"\"\"Define graph\"\"\"\n",
    "    \n",
    "    def __init__(self, W, models, datasets, learning_rates, loaders, batch_size, criterion, chosen_device, testloader):\n",
    "        \n",
    "        self.adjacency = W\n",
    "        self.num_nodes = W.shape[0]\n",
    "        self.chosen_device = chosen_device\n",
    "        self.batch_size = batch_size\n",
    "        self.testloader = testloader\n",
    "        \n",
    "        self.nodes = OrderedDict()\n",
    "        \n",
    "        for i in range(self.num_nodes):\n",
    "            self.nodes[i] = Node(learning_rates[i], loaders[i], self.batch_size, datasets[i], models[i], criterion, self.chosen_device)\n",
    "            for j in range(self.num_nodes):\n",
    "                if(j != i and W[i, j] > 0):\n",
    "                    self.nodes[i].neighbors.append(j)\n",
    "                    self.nodes[i].neighbor_wts[j] = W[i, j]\n",
    "                    \n",
    "\n",
    "    def consensus_test(self, loader, batch_size):\n",
    "        \"\"\" forwards test samples and calculates the test accuracy \"\"\"\n",
    "\n",
    "        #model.to(chosen_device)\n",
    "        correct = 0\n",
    "        total = 0\n",
    "        count_batches = 0\n",
    "\n",
    "        with torch.no_grad():\n",
    "\n",
    "            for batch_idx, sample in enumerate(loader):\n",
    "\n",
    "                inputs, labels = sample[0].to(self.chosen_device), sample[1].to(self.chosen_device)\n",
    "                #inputs, labels = sample[0], sample[1]\n",
    "                for i in range(self.num_nodes):\n",
    "                    self.nodes[i].model.to(self.chosen_device)\n",
    "                    outputs = self.nodes[i].model(inputs)\n",
    "                    if(i == 0):\n",
    "                        consensus = torch.zeros_like(outputs)\n",
    "\n",
    "                    logits, predicted = outputs.max(1)\n",
    "                    #print(logits)\n",
    "                    \n",
    "                    for i in range(batch_size):\n",
    "                        consensus[i] = consensus[i]+torch.where(outputs[i].eq(logits[i]), torch.Tensor([1]).to(self.chosen_device), torch.Tensor([0]).to(self.chosen_device))              \n",
    "                \n",
    "                logits, final_pred = consensus.max(1)\n",
    "\n",
    "                batch_correct = (final_pred == labels).sum().item()\n",
    "                \n",
    "                correct += batch_correct\n",
    "                total += labels.size(0)\n",
    "\n",
    "        test_acc  = 100.0 * correct / total\n",
    "        #test_loss = running_losses / total\n",
    "\n",
    "        #print('\\n=> Test acc  : {:7.3f}%'.format(test_acc))\n",
    "\n",
    "        return test_acc\n",
    "        \n",
    "\n",
    "    def simulate(self, iterations, epochs):\n",
    "        \n",
    "        record_sims = OrderedDict()\n",
    "        for k in range(self.num_nodes):\n",
    "          record_sims[k] = []\n",
    "\n",
    "        for i in range(epochs):\n",
    "            for j in range(iterations):\n",
    "                lr = 1e-3\n",
    "                if((j+1) % 500 == 0 and j != 0):\n",
    "                  \n",
    "                  test_acc = self.consensus_test(self.testloader, self.batch_size)\n",
    "                  for k in range(self.num_nodes):\n",
    "                    loss_dict = self.nodes[k].calc_node_loss(self.testloader, self.chosen_device)\n",
    "                    loss_dict[\"consensus_test\"] = test_acc\n",
    "                    loss_dict[\"iteration\"] = j\n",
    "                    record_sims[k].append(loss_dict)\n",
    "                    \n",
    "                for k in range(self.num_nodes):\n",
    "                    self.nodes[k].compute_gradient()\n",
    "                \n",
    "                \n",
    "                for l in range(self.num_nodes):\n",
    "                    for m,param in enumerate(self.nodes[l].model.parameters()):\n",
    "                        if param.grad is None:\n",
    "                            continue\n",
    "                      \n",
    "                        gt_update = self.nodes[l].curr_gt[m]\n",
    "                        wt_sum = 1\n",
    "                        for n in self.nodes[l].neighbors:\n",
    "                            gt_update= gt_update + self.nodes[l].neighbor_wts[n] *self.nodes[n].curr_gt[m]\n",
    "                            wt_sum = wt_sum + self.nodes[l].neighbor_wts[n]\n",
    "                        gt_update = gt_update/wt_sum\n",
    "                        param.data = param.data - lr*gt_update\n",
    "                    #self.nodes[str(l)].update_model()\n",
    "\n",
    "        return record_sims"
   ]
  },
  {
   "cell_type": "code",
   "execution_count": 0,
   "metadata": {
    "colab": {},
    "colab_type": "code",
    "id": "Jy46aNnyE2lx"
   },
   "outputs": [],
   "source": [
    "class Agg_Server():\n",
    "    \n",
    "    def __init__(self, W, models, clr_model, learning_rates, clr, loaders, criterion):\n",
    "        \n",
    "        self.num_nodes = W.shape[0]\n",
    "        self.server_weights = W\n",
    "        \n",
    "        self.central_server = Node(clr, None, clr_model, criterion)\n",
    "        \n",
    "        self.nodes = OrderedDict()\n",
    "        \n",
    "        for i in range(self.num_nodes):\n",
    "            self.nodes[i] = Node(learning_rates[i], loaders[i], models[i], criterion)\n",
    "            \n",
    "            if(W[i, 0] > 0):\n",
    "                self.central_server.neighbors.append(i)\n",
    "                self.central_server.neighbor_wts[i] = W[i, 0]\n",
    "\n",
    "            \n",
    "    def simulate(self, iterations, epochs):\n",
    "        \n",
    "        for i in range(epochs):\n",
    "            for j in range(iterations):\n",
    "                lr = 1e-3\n",
    "                if(j % 500 == 0):\n",
    "                    print(j)\n",
    "                    \n",
    "                for k in range(self.num_nodes):\n",
    "                    self.nodes[k].compute_gradient()\n",
    "    \n",
    "\n",
    "                for m,param in enumerate(self.central_server.model.parameters()):\n",
    "                    \n",
    "                    for a,n in enumerate(self.central_server.neighbors):\n",
    "                        \n",
    "                        if self.nodes[n].curr_gt[m] is None:\n",
    "                            continue\n",
    "                        \n",
    "                        if(a == 0):\n",
    "                            gt = torch.sign(self.nodes[n].curr_gt[m])\n",
    "                            gt_update = self.central_server.neighbor_wts[n]*gt\n",
    "                            wt_sum = self.central_server.neighbor_wts[n]\n",
    "                        else:\n",
    "                            gt = torch.sign(self.nodes[n].curr_gt[m])\n",
    "                            gt_update= gt_update + self.central_server.neighbor_wts[n]*gt\n",
    "                            wt_sum = wt_sum + self.central_server.neighbor_wts[n]\n",
    "                        \n",
    "                    gt_update = gt_update/wt_sum\n",
    "                    param.data = param.data - lr*gt_update\n",
    "                    \n",
    "                \n",
    "                for a,n in enumerate(self.central_server.neighbors):\n",
    "                    \n",
    "                    self.nodes[n].model.load_state_dict(self.central_server.model.state_dict())\n",
    "                \n",
    "                    #self.nodes[str(l)].update_model()"
   ]
  },
  {
   "cell_type": "markdown",
   "metadata": {
    "colab_type": "text",
    "id": "Orj0pwIfKVl7"
   },
   "source": [
    "## Agg Server"
   ]
  },
  {
   "cell_type": "code",
   "execution_count": 37,
   "metadata": {
    "colab": {
     "base_uri": "https://localhost:8080/",
     "height": 195
    },
    "colab_type": "code",
    "id": "L9-4iBkXE2l0",
    "outputId": "609ab79d-4d42-4fde-981f-452005681a9c"
   },
   "outputs": [
    {
     "ename": "NameError",
     "evalue": "ignored",
     "output_type": "error",
     "traceback": [
      "\u001b[0;31m---------------------------------------------------------------------------\u001b[0m",
      "\u001b[0;31mNameError\u001b[0m                                 Traceback (most recent call last)",
      "\u001b[0;32m<ipython-input-37-94b94474018c>\u001b[0m in \u001b[0;36m<module>\u001b[0;34m()\u001b[0m\n\u001b[1;32m     11\u001b[0m \u001b[0;34m\u001b[0m\u001b[0m\n\u001b[1;32m     12\u001b[0m \u001b[0;34m\u001b[0m\u001b[0m\n\u001b[0;32m---> 13\u001b[0;31m \u001b[0mnet\u001b[0m \u001b[0;34m=\u001b[0m \u001b[0mAgg_Server\u001b[0m\u001b[0;34m(\u001b[0m\u001b[0mtorch\u001b[0m\u001b[0;34m.\u001b[0m\u001b[0mones\u001b[0m\u001b[0;34m(\u001b[0m\u001b[0;34m[\u001b[0m\u001b[0;36m2\u001b[0m\u001b[0;34m,\u001b[0m\u001b[0;36m1\u001b[0m\u001b[0;34m]\u001b[0m\u001b[0;34m)\u001b[0m\u001b[0;34m,\u001b[0m\u001b[0mmodels\u001b[0m\u001b[0;34m,\u001b[0m \u001b[0mc_model\u001b[0m\u001b[0;34m,\u001b[0m \u001b[0;34m[\u001b[0m\u001b[0;36m1e-3\u001b[0m\u001b[0;34m,\u001b[0m\u001b[0;36m1e-3\u001b[0m\u001b[0;34m]\u001b[0m\u001b[0;34m,\u001b[0m \u001b[0mc_lr\u001b[0m\u001b[0;34m,\u001b[0m \u001b[0mtrainloaders\u001b[0m\u001b[0;34m,\u001b[0m \u001b[0mnn\u001b[0m\u001b[0;34m.\u001b[0m\u001b[0mCrossEntropyLoss\u001b[0m\u001b[0;34m(\u001b[0m\u001b[0;34m)\u001b[0m\u001b[0;34m)\u001b[0m\u001b[0;34m\u001b[0m\u001b[0;34m\u001b[0m\u001b[0m\n\u001b[0m",
      "\u001b[0;31mNameError\u001b[0m: name 'Agg_Server' is not defined"
     ]
    }
   ],
   "source": [
    "models = [Net() for i in range(7)]\n",
    "#c_model = Net()\n",
    "c_lr = 1e-3\n",
    "\n",
    "criterion = nn.CrossEntropyLoss()\n",
    "\n",
    "m = trainset_node_split(trainset, 2)\n",
    "\n",
    "trainloaders = [torch.utils.data.DataLoader(m[i], batch_size=4, shuffle=True, num_workers=2) for i in range(2)]\n",
    "\n",
    "\n",
    "\n",
    "net = Agg_Server(torch.ones([2,1]),models, c_model, [1e-3,1e-3], c_lr, trainloaders, nn.CrossEntropyLoss())"
   ]
  },
  {
   "cell_type": "code",
   "execution_count": 0,
   "metadata": {
    "colab": {},
    "colab_type": "code",
    "id": "I85QXdFRE2l1",
    "outputId": "911b1702-f956-4926-d3de-ea0fc9527d1e"
   },
   "outputs": [
    {
     "name": "stdout",
     "output_type": "stream",
     "text": [
      "0\n",
      "500\n",
      "1000\n",
      "1500\n",
      "2000\n",
      "2500\n",
      "3000\n",
      "3500\n"
     ]
    }
   ],
   "source": [
    "net.simulate(4000,1)"
   ]
  },
  {
   "cell_type": "code",
   "execution_count": 0,
   "metadata": {
    "colab": {},
    "colab_type": "code",
    "id": "Jf0JSn6TE2l4"
   },
   "outputs": [],
   "source": []
  },
  {
   "cell_type": "code",
   "execution_count": 0,
   "metadata": {
    "colab": {},
    "colab_type": "code",
    "id": "H3Jg0RudE2l6"
   },
   "outputs": [],
   "source": []
  },
  {
   "cell_type": "code",
   "execution_count": 0,
   "metadata": {
    "colab": {},
    "colab_type": "code",
    "id": "QcU4Sy_oE2l9",
    "outputId": "c0ba651e-0d07-4f93-9811-212bc983263a"
   },
   "outputs": [
    {
     "name": "stdout",
     "output_type": "stream",
     "text": [
      "\n",
      "=> Test acc  :  78.660%\n"
     ]
    },
    {
     "data": {
      "text/plain": [
       "(78.66, 0.676750244140625)"
      ]
     },
     "execution_count": 13,
     "metadata": {
      "tags": []
     },
     "output_type": "execute_result"
    }
   ],
   "source": [
    "forward_test(c_model, testloader, device)"
   ]
  },
  {
   "cell_type": "code",
   "execution_count": 0,
   "metadata": {
    "colab": {},
    "colab_type": "code",
    "id": "DQ5bNzwKE2l_",
    "outputId": "81eefdca-fcf9-42bb-f732-6f4e55aca94f"
   },
   "outputs": [
    {
     "name": "stdout",
     "output_type": "stream",
     "text": [
      "\n",
      "=> Test acc  :  91.170%\n"
     ]
    },
    {
     "data": {
      "text/plain": [
       "(91.17, 0.07826509742736816)"
      ]
     },
     "execution_count": 15,
     "metadata": {
      "tags": []
     },
     "output_type": "execute_result"
    }
   ],
   "source": [
    "forward_test(models[0], testloader, device)"
   ]
  },
  {
   "cell_type": "code",
   "execution_count": 0,
   "metadata": {
    "colab": {},
    "colab_type": "code",
    "id": "qFFQHrt-E2mC",
    "outputId": "be67c538-9696-426b-fcd0-918aae5f48d9"
   },
   "outputs": [
    {
     "name": "stdout",
     "output_type": "stream",
     "text": [
      "\n",
      "=> Test acc  :  78.000%\n"
     ]
    },
    {
     "data": {
      "text/plain": [
       "(78.0, 0.19203385961055755)"
      ]
     },
     "execution_count": 54,
     "metadata": {
      "tags": []
     },
     "output_type": "execute_result"
    }
   ],
   "source": [
    "forward_test(models[1], testloader, device)"
   ]
  },
  {
   "cell_type": "code",
   "execution_count": 0,
   "metadata": {
    "colab": {},
    "colab_type": "code",
    "id": "5GavxxIlE2mD"
   },
   "outputs": [],
   "source": [
    "def quantizer_topk(gradient, k = 5):\n",
    "    absoulte = torch.abs( gradient )\n",
    "    sign  = torch.sign(gradient)\n",
    "    values,indices = torch.topk( gradient, k , sorted = False )\n",
    "    gradient = torch.zeros( *gradient.shape )\n",
    "    gradient[indices] = values\n",
    "    #transform gradient to torch\n",
    "    return gradient*sign\n",
    "\n",
    "def quantizer_lossy( gradient, k = 5 ):\n",
    "    norm = torch.norm( gradient )\n",
    "    absoulte = torch.abs( gradient )\n",
    "    absoulte = ( absoulte/norm )*k\n",
    "    floor = torch.floor(gradient)\n",
    "    random_ceil = torch.rand(*gradient.shape) < ( gradient - floor )\n",
    "    print( random_ceil )\n",
    "    floor = ( floor + random_ceil.float() ) * (1/k)\n",
    "    #rescale\n",
    "    return (norm) * ( torch.sign(gradient) * floor )\n",
    "    \n",
    "a = torch.arange(5, dtype= torch.float)\n",
    "print(quantizer_lossy(a),  5 )\n",
    "a = torch.arange( 10 , dtype= torch.float )\n",
    "a = a - 5\n",
    "print(quantizer_topk(a))"
   ]
  },
  {
   "cell_type": "code",
   "execution_count": 0,
   "metadata": {
    "colab": {},
    "colab_type": "code",
    "id": "GcXxtRWCIxG3"
   },
   "outputs": [],
   "source": [
    "train_loss = OrderedDict()\n",
    "test_loss = OrderedDict()"
   ]
  },
  {
   "cell_type": "markdown",
   "metadata": {
    "colab_type": "text",
    "id": "gT4yo3veLYJh"
   },
   "source": [
    "## Ring"
   ]
  },
  {
   "cell_type": "code",
   "execution_count": 13,
   "metadata": {
    "colab": {
     "base_uri": "https://localhost:8080/",
     "height": 168
    },
    "colab_type": "code",
    "id": "7FLb8ClvLd6_",
    "outputId": "6ac26fc1-b07a-4ce5-a282-f7f73cf12766"
   },
   "outputs": [
    {
     "name": "stdout",
     "output_type": "stream",
     "text": [
      "[[0. 1. 0. 0. 0. 0. 0. 0. 1.]\n",
      " [1. 0. 1. 0. 0. 0. 0. 0. 0.]\n",
      " [0. 1. 0. 1. 0. 0. 0. 0. 0.]\n",
      " [0. 0. 1. 0. 1. 0. 0. 0. 0.]\n",
      " [0. 0. 0. 1. 0. 1. 0. 0. 0.]\n",
      " [0. 0. 0. 0. 1. 0. 1. 0. 0.]\n",
      " [0. 0. 0. 0. 0. 1. 0. 1. 0.]\n",
      " [0. 0. 0. 0. 0. 0. 1. 0. 1.]\n",
      " [1. 0. 0. 0. 0. 0. 0. 1. 0.]]\n"
     ]
    }
   ],
   "source": [
    "W = np.zeros([9,9])\n",
    "for i in range(9):\n",
    "  if(i > 0 and i < 8):\n",
    "    W[i, i+1] = 1\n",
    "    W[i, i-1] = 1\n",
    "  elif(i == 0):\n",
    "    W[i, i+1] = 1\n",
    "    W[i, 8] = 1\n",
    "  else:\n",
    "    W[i, i-1] = 1\n",
    "    W[i, 0] = 1\n",
    "\n",
    "print(W)"
   ]
  },
  {
   "cell_type": "code",
   "execution_count": 0,
   "metadata": {
    "colab": {},
    "colab_type": "code",
    "id": "zZliSp6vIxN7"
   },
   "outputs": [],
   "source": [
    "models = [Net() for i in range(9)]\n",
    "#c_model = Net()\n",
    "\n",
    "criterion = nn.CrossEntropyLoss()\n",
    "\n",
    "m = trainset_node_split(trainset, 9)\n",
    "\n",
    "trainloaders = [torch.utils.data.DataLoader(m[i], batch_size=8, shuffle=True, num_workers=2) for i in range(9)]\n",
    "\n",
    "lrs = []\n",
    "\n",
    "for i in range(9):\n",
    "  lrs.append(1e-3)\n",
    "  \n",
    "#net = Network(W,models,lrs, trainloaders, nn.CrossEntropyLoss())"
   ]
  },
  {
   "cell_type": "code",
   "execution_count": 0,
   "metadata": {
    "colab": {},
    "colab_type": "code",
    "id": "NCnUamuosjxl"
   },
   "outputs": [],
   "source": [
    "net = Network(W, models, m, lrs, trainloaders, 8, nn.CrossEntropyLoss(), device, testloader)\n",
    "\n",
    "a = net.simulate(500, 1)"
   ]
  },
  {
   "cell_type": "code",
   "execution_count": 41,
   "metadata": {
    "colab": {
     "base_uri": "https://localhost:8080/",
     "height": 54
    },
    "colab_type": "code",
    "id": "3XYMOCAnvW1w",
    "outputId": "2c8678e2-b0db-493b-a531-d36d183ac1cc"
   },
   "outputs": [
    {
     "name": "stdout",
     "output_type": "stream",
     "text": [
      "OrderedDict([(0, [{'train_acc': 24.032403240324033, 'train_loss': 4.500357460360147e-05, 'test_acc': 23.66, 'test_loss': 3.2054605530724326e-05, 'consensus_test': 23.04, 'iteration': 499}]), (1, [{'train_acc': 11.281128112811281, 'train_loss': 4.434331395542826e-05, 'test_acc': 12.25, 'test_loss': 3.317279109856046e-05, 'consensus_test': 23.04, 'iteration': 499}]), (2, [{'train_acc': 13.951395139513952, 'train_loss': 5.1287639337136135e-05, 'test_acc': 14.28, 'test_loss': 3.3309000898449225e-05, 'consensus_test': 23.04, 'iteration': 499}]), (3, [{'train_acc': 13.411341134113412, 'train_loss': 4.8316928699147325e-05, 'test_acc': 13.98, 'test_loss': 3.304229994231909e-05, 'consensus_test': 23.04, 'iteration': 499}]), (4, [{'train_acc': 20.312031203120313, 'train_loss': 5.2206743474387606e-05, 'test_acc': 19.92, 'test_loss': 3.193969205883586e-05, 'consensus_test': 23.04, 'iteration': 499}]), (5, [{'train_acc': 20.927092709270926, 'train_loss': 4.486035617484903e-05, 'test_acc': 20.91, 'test_loss': 3.1216518067729335e-05, 'consensus_test': 23.04, 'iteration': 499}]), (6, [{'train_acc': 11.236123612361236, 'train_loss': 4.913430066957444e-05, 'test_acc': 12.0, 'test_loss': 3.1822613055980467e-05, 'consensus_test': 23.04, 'iteration': 499}]), (7, [{'train_acc': 11.536153615361536, 'train_loss': 4.793438187377605e-05, 'test_acc': 10.78, 'test_loss': 3.2950246997249024e-05, 'consensus_test': 23.04, 'iteration': 499}]), (8, [{'train_acc': 9.06090609060906, 'train_loss': 5.374847003002317e-05, 'test_acc': 9.23, 'test_loss': 3.188521407714898e-05, 'consensus_test': 23.04, 'iteration': 499}])])\n"
     ]
    }
   ],
   "source": [
    "print(a)"
   ]
  },
  {
   "cell_type": "code",
   "execution_count": 10,
   "metadata": {
    "colab": {
     "base_uri": "https://localhost:8080/",
     "height": 34
    },
    "colab_type": "code",
    "id": "UR4OUVf_vW-W",
    "outputId": "95641574-6daf-4042-c899-76b9af01868b"
   },
   "outputs": [
    {
     "data": {
      "text/plain": [
       "tensor([0., 5., 0.])"
      ]
     },
     "execution_count": 10,
     "metadata": {
      "tags": []
     },
     "output_type": "execute_result"
    }
   ],
   "source": [
    "torch.where(a == b, torch.Tensor([5]), torch.Tensor([0]))"
   ]
  }
 ],
 "metadata": {
  "accelerator": "GPU",
  "colab": {
   "collapsed_sections": [],
   "name": "graph_struct.ipynb",
   "provenance": []
  },
  "kernelspec": {
   "display_name": "Python 3",
   "language": "python",
   "name": "python3"
  },
  "language_info": {
   "codemirror_mode": {
    "name": "ipython",
    "version": 3
   },
   "file_extension": ".py",
   "mimetype": "text/x-python",
   "name": "python",
   "nbconvert_exporter": "python",
   "pygments_lexer": "ipython3",
   "version": "3.7.3"
  },
  "widgets": {
   "application/vnd.jupyter.widget-state+json": {
    "05d9d1ffed2f49dd8608a3391d00c174": {
     "model_module": "@jupyter-widgets/controls",
     "model_name": "HBoxModel",
     "state": {
      "_dom_classes": [],
      "_model_module": "@jupyter-widgets/controls",
      "_model_module_version": "1.5.0",
      "_model_name": "HBoxModel",
      "_view_count": null,
      "_view_module": "@jupyter-widgets/controls",
      "_view_module_version": "1.5.0",
      "_view_name": "HBoxView",
      "box_style": "",
      "children": [
       "IPY_MODEL_14a2cb8716cd420ea6baf8f161f18cb4",
       "IPY_MODEL_4349c86a6d1d49db830b2b6342a30331"
      ],
      "layout": "IPY_MODEL_7b81ae30af174af3a9c47d2c8ebd66d6"
     }
    },
    "095a1fec36ad43ecb0a69340135d0839": {
     "model_module": "@jupyter-widgets/controls",
     "model_name": "HTMLModel",
     "state": {
      "_dom_classes": [],
      "_model_module": "@jupyter-widgets/controls",
      "_model_module_version": "1.5.0",
      "_model_name": "HTMLModel",
      "_view_count": null,
      "_view_module": "@jupyter-widgets/controls",
      "_view_module_version": "1.5.0",
      "_view_name": "HTMLView",
      "description": "",
      "description_tooltip": null,
      "layout": "IPY_MODEL_f2f35779a0014ba295c3168585998064",
      "placeholder": "​",
      "style": "IPY_MODEL_aa1d2ad1559b40b5a0d962f641fab92b",
      "value": " 32768/? [00:02&lt;00:00, 11508.97it/s]"
     }
    },
    "09d15bd07085463bb5ea546d208bcf75": {
     "model_module": "@jupyter-widgets/base",
     "model_name": "LayoutModel",
     "state": {
      "_model_module": "@jupyter-widgets/base",
      "_model_module_version": "1.2.0",
      "_model_name": "LayoutModel",
      "_view_count": null,
      "_view_module": "@jupyter-widgets/base",
      "_view_module_version": "1.2.0",
      "_view_name": "LayoutView",
      "align_content": null,
      "align_items": null,
      "align_self": null,
      "border": null,
      "bottom": null,
      "display": null,
      "flex": null,
      "flex_flow": null,
      "grid_area": null,
      "grid_auto_columns": null,
      "grid_auto_flow": null,
      "grid_auto_rows": null,
      "grid_column": null,
      "grid_gap": null,
      "grid_row": null,
      "grid_template_areas": null,
      "grid_template_columns": null,
      "grid_template_rows": null,
      "height": null,
      "justify_content": null,
      "justify_items": null,
      "left": null,
      "margin": null,
      "max_height": null,
      "max_width": null,
      "min_height": null,
      "min_width": null,
      "object_fit": null,
      "object_position": null,
      "order": null,
      "overflow": null,
      "overflow_x": null,
      "overflow_y": null,
      "padding": null,
      "right": null,
      "top": null,
      "visibility": null,
      "width": null
     }
    },
    "103d832d5f6e4b41817160998e709095": {
     "model_module": "@jupyter-widgets/controls",
     "model_name": "DescriptionStyleModel",
     "state": {
      "_model_module": "@jupyter-widgets/controls",
      "_model_module_version": "1.5.0",
      "_model_name": "DescriptionStyleModel",
      "_view_count": null,
      "_view_module": "@jupyter-widgets/base",
      "_view_module_version": "1.2.0",
      "_view_name": "StyleView",
      "description_width": ""
     }
    },
    "14a2cb8716cd420ea6baf8f161f18cb4": {
     "model_module": "@jupyter-widgets/controls",
     "model_name": "FloatProgressModel",
     "state": {
      "_dom_classes": [],
      "_model_module": "@jupyter-widgets/controls",
      "_model_module_version": "1.5.0",
      "_model_name": "FloatProgressModel",
      "_view_count": null,
      "_view_module": "@jupyter-widgets/controls",
      "_view_module_version": "1.5.0",
      "_view_name": "ProgressView",
      "bar_style": "info",
      "description": "  0%",
      "description_tooltip": null,
      "layout": "IPY_MODEL_c23bdfb8094b4e1fbaee13ea8919bc98",
      "max": 1,
      "min": 0,
      "orientation": "horizontal",
      "style": "IPY_MODEL_7e8125328ab9476096f17641cf3183d1",
      "value": 0
     }
    },
    "19b70b44692b460e9a867f3954c1e168": {
     "model_module": "@jupyter-widgets/controls",
     "model_name": "ProgressStyleModel",
     "state": {
      "_model_module": "@jupyter-widgets/controls",
      "_model_module_version": "1.5.0",
      "_model_name": "ProgressStyleModel",
      "_view_count": null,
      "_view_module": "@jupyter-widgets/base",
      "_view_module_version": "1.2.0",
      "_view_name": "StyleView",
      "bar_color": null,
      "description_width": "initial"
     }
    },
    "1be4db375641465b815710864f65f808": {
     "model_module": "@jupyter-widgets/controls",
     "model_name": "FloatProgressModel",
     "state": {
      "_dom_classes": [],
      "_model_module": "@jupyter-widgets/controls",
      "_model_module_version": "1.5.0",
      "_model_name": "FloatProgressModel",
      "_view_count": null,
      "_view_module": "@jupyter-widgets/controls",
      "_view_module_version": "1.5.0",
      "_view_name": "ProgressView",
      "bar_style": "info",
      "description": "",
      "description_tooltip": null,
      "layout": "IPY_MODEL_dde321ffb3004f6884107197737a0e0b",
      "max": 1,
      "min": 0,
      "orientation": "horizontal",
      "style": "IPY_MODEL_7802d02ed13f4fa49619ef8b1d3e8239",
      "value": 1
     }
    },
    "20b99f9c97454dee8e5b39e5caf19a10": {
     "model_module": "@jupyter-widgets/controls",
     "model_name": "HBoxModel",
     "state": {
      "_dom_classes": [],
      "_model_module": "@jupyter-widgets/controls",
      "_model_module_version": "1.5.0",
      "_model_name": "HBoxModel",
      "_view_count": null,
      "_view_module": "@jupyter-widgets/controls",
      "_view_module_version": "1.5.0",
      "_view_name": "HBoxView",
      "box_style": "",
      "children": [
       "IPY_MODEL_1be4db375641465b815710864f65f808",
       "IPY_MODEL_c8bb7a34a8ce4e6f80069f75f85c015e"
      ],
      "layout": "IPY_MODEL_d83f73cd6b48425b888c2431e485d871"
     }
    },
    "28283dc5809e458db823a73fdd4e9e2a": {
     "model_module": "@jupyter-widgets/base",
     "model_name": "LayoutModel",
     "state": {
      "_model_module": "@jupyter-widgets/base",
      "_model_module_version": "1.2.0",
      "_model_name": "LayoutModel",
      "_view_count": null,
      "_view_module": "@jupyter-widgets/base",
      "_view_module_version": "1.2.0",
      "_view_name": "LayoutView",
      "align_content": null,
      "align_items": null,
      "align_self": null,
      "border": null,
      "bottom": null,
      "display": null,
      "flex": null,
      "flex_flow": null,
      "grid_area": null,
      "grid_auto_columns": null,
      "grid_auto_flow": null,
      "grid_auto_rows": null,
      "grid_column": null,
      "grid_gap": null,
      "grid_row": null,
      "grid_template_areas": null,
      "grid_template_columns": null,
      "grid_template_rows": null,
      "height": null,
      "justify_content": null,
      "justify_items": null,
      "left": null,
      "margin": null,
      "max_height": null,
      "max_width": null,
      "min_height": null,
      "min_width": null,
      "object_fit": null,
      "object_position": null,
      "order": null,
      "overflow": null,
      "overflow_x": null,
      "overflow_y": null,
      "padding": null,
      "right": null,
      "top": null,
      "visibility": null,
      "width": null
     }
    },
    "4349c86a6d1d49db830b2b6342a30331": {
     "model_module": "@jupyter-widgets/controls",
     "model_name": "HTMLModel",
     "state": {
      "_dom_classes": [],
      "_model_module": "@jupyter-widgets/controls",
      "_model_module_version": "1.5.0",
      "_model_name": "HTMLModel",
      "_view_count": null,
      "_view_module": "@jupyter-widgets/controls",
      "_view_module_version": "1.5.0",
      "_view_name": "HTMLView",
      "description": "",
      "description_tooltip": null,
      "layout": "IPY_MODEL_a04648081892413ea2c8e190bcd5bce4",
      "placeholder": "​",
      "style": "IPY_MODEL_9bc5bb3ea94240aabc756be86ed88a09",
      "value": " 0/4542 [00:00&lt;?, ?it/s]"
     }
    },
    "43b7da2ec91d436ebba5e9045af64e45": {
     "model_module": "@jupyter-widgets/controls",
     "model_name": "FloatProgressModel",
     "state": {
      "_dom_classes": [],
      "_model_module": "@jupyter-widgets/controls",
      "_model_module_version": "1.5.0",
      "_model_name": "FloatProgressModel",
      "_view_count": null,
      "_view_module": "@jupyter-widgets/controls",
      "_view_module_version": "1.5.0",
      "_view_name": "ProgressView",
      "bar_style": "success",
      "description": "",
      "description_tooltip": null,
      "layout": "IPY_MODEL_28283dc5809e458db823a73fdd4e9e2a",
      "max": 1,
      "min": 0,
      "orientation": "horizontal",
      "style": "IPY_MODEL_19b70b44692b460e9a867f3954c1e168",
      "value": 1
     }
    },
    "76ada2b264d748e7a73b4e80d3e257d5": {
     "model_module": "@jupyter-widgets/controls",
     "model_name": "DescriptionStyleModel",
     "state": {
      "_model_module": "@jupyter-widgets/controls",
      "_model_module_version": "1.5.0",
      "_model_name": "DescriptionStyleModel",
      "_view_count": null,
      "_view_module": "@jupyter-widgets/base",
      "_view_module_version": "1.2.0",
      "_view_name": "StyleView",
      "description_width": ""
     }
    },
    "7802d02ed13f4fa49619ef8b1d3e8239": {
     "model_module": "@jupyter-widgets/controls",
     "model_name": "ProgressStyleModel",
     "state": {
      "_model_module": "@jupyter-widgets/controls",
      "_model_module_version": "1.5.0",
      "_model_name": "ProgressStyleModel",
      "_view_count": null,
      "_view_module": "@jupyter-widgets/base",
      "_view_module_version": "1.2.0",
      "_view_name": "StyleView",
      "bar_color": null,
      "description_width": "initial"
     }
    },
    "7b81ae30af174af3a9c47d2c8ebd66d6": {
     "model_module": "@jupyter-widgets/base",
     "model_name": "LayoutModel",
     "state": {
      "_model_module": "@jupyter-widgets/base",
      "_model_module_version": "1.2.0",
      "_model_name": "LayoutModel",
      "_view_count": null,
      "_view_module": "@jupyter-widgets/base",
      "_view_module_version": "1.2.0",
      "_view_name": "LayoutView",
      "align_content": null,
      "align_items": null,
      "align_self": null,
      "border": null,
      "bottom": null,
      "display": null,
      "flex": null,
      "flex_flow": null,
      "grid_area": null,
      "grid_auto_columns": null,
      "grid_auto_flow": null,
      "grid_auto_rows": null,
      "grid_column": null,
      "grid_gap": null,
      "grid_row": null,
      "grid_template_areas": null,
      "grid_template_columns": null,
      "grid_template_rows": null,
      "height": null,
      "justify_content": null,
      "justify_items": null,
      "left": null,
      "margin": null,
      "max_height": null,
      "max_width": null,
      "min_height": null,
      "min_width": null,
      "object_fit": null,
      "object_position": null,
      "order": null,
      "overflow": null,
      "overflow_x": null,
      "overflow_y": null,
      "padding": null,
      "right": null,
      "top": null,
      "visibility": null,
      "width": null
     }
    },
    "7e8125328ab9476096f17641cf3183d1": {
     "model_module": "@jupyter-widgets/controls",
     "model_name": "ProgressStyleModel",
     "state": {
      "_model_module": "@jupyter-widgets/controls",
      "_model_module_version": "1.5.0",
      "_model_name": "ProgressStyleModel",
      "_view_count": null,
      "_view_module": "@jupyter-widgets/base",
      "_view_module_version": "1.2.0",
      "_view_name": "StyleView",
      "bar_color": null,
      "description_width": "initial"
     }
    },
    "8442e18f6b6a4ffea434aa8b154fc93f": {
     "model_module": "@jupyter-widgets/controls",
     "model_name": "ProgressStyleModel",
     "state": {
      "_model_module": "@jupyter-widgets/controls",
      "_model_module_version": "1.5.0",
      "_model_name": "ProgressStyleModel",
      "_view_count": null,
      "_view_module": "@jupyter-widgets/base",
      "_view_module_version": "1.2.0",
      "_view_name": "StyleView",
      "bar_color": null,
      "description_width": "initial"
     }
    },
    "8679b4a9c94d4766874fcfa001c98871": {
     "model_module": "@jupyter-widgets/controls",
     "model_name": "FloatProgressModel",
     "state": {
      "_dom_classes": [],
      "_model_module": "@jupyter-widgets/controls",
      "_model_module_version": "1.5.0",
      "_model_name": "FloatProgressModel",
      "_view_count": null,
      "_view_module": "@jupyter-widgets/controls",
      "_view_module_version": "1.5.0",
      "_view_name": "ProgressView",
      "bar_style": "success",
      "description": "",
      "description_tooltip": null,
      "layout": "IPY_MODEL_ebddeed037984916a38c5283aaa526d7",
      "max": 1,
      "min": 0,
      "orientation": "horizontal",
      "style": "IPY_MODEL_8442e18f6b6a4ffea434aa8b154fc93f",
      "value": 1
     }
    },
    "8b8f8b55dc4646a6b95b0b43f50cdfb5": {
     "model_module": "@jupyter-widgets/controls",
     "model_name": "HBoxModel",
     "state": {
      "_dom_classes": [],
      "_model_module": "@jupyter-widgets/controls",
      "_model_module_version": "1.5.0",
      "_model_name": "HBoxModel",
      "_view_count": null,
      "_view_module": "@jupyter-widgets/controls",
      "_view_module_version": "1.5.0",
      "_view_name": "HBoxView",
      "box_style": "",
      "children": [
       "IPY_MODEL_8679b4a9c94d4766874fcfa001c98871",
       "IPY_MODEL_bfb7642b094a4055800c1e1e50d347ff"
      ],
      "layout": "IPY_MODEL_09d15bd07085463bb5ea546d208bcf75"
     }
    },
    "97f25ff6ebbf4602829d04dd0c6e2505": {
     "model_module": "@jupyter-widgets/base",
     "model_name": "LayoutModel",
     "state": {
      "_model_module": "@jupyter-widgets/base",
      "_model_module_version": "1.2.0",
      "_model_name": "LayoutModel",
      "_view_count": null,
      "_view_module": "@jupyter-widgets/base",
      "_view_module_version": "1.2.0",
      "_view_name": "LayoutView",
      "align_content": null,
      "align_items": null,
      "align_self": null,
      "border": null,
      "bottom": null,
      "display": null,
      "flex": null,
      "flex_flow": null,
      "grid_area": null,
      "grid_auto_columns": null,
      "grid_auto_flow": null,
      "grid_auto_rows": null,
      "grid_column": null,
      "grid_gap": null,
      "grid_row": null,
      "grid_template_areas": null,
      "grid_template_columns": null,
      "grid_template_rows": null,
      "height": null,
      "justify_content": null,
      "justify_items": null,
      "left": null,
      "margin": null,
      "max_height": null,
      "max_width": null,
      "min_height": null,
      "min_width": null,
      "object_fit": null,
      "object_position": null,
      "order": null,
      "overflow": null,
      "overflow_x": null,
      "overflow_y": null,
      "padding": null,
      "right": null,
      "top": null,
      "visibility": null,
      "width": null
     }
    },
    "9bc5bb3ea94240aabc756be86ed88a09": {
     "model_module": "@jupyter-widgets/controls",
     "model_name": "DescriptionStyleModel",
     "state": {
      "_model_module": "@jupyter-widgets/controls",
      "_model_module_version": "1.5.0",
      "_model_name": "DescriptionStyleModel",
      "_view_count": null,
      "_view_module": "@jupyter-widgets/base",
      "_view_module_version": "1.2.0",
      "_view_name": "StyleView",
      "description_width": ""
     }
    },
    "a04648081892413ea2c8e190bcd5bce4": {
     "model_module": "@jupyter-widgets/base",
     "model_name": "LayoutModel",
     "state": {
      "_model_module": "@jupyter-widgets/base",
      "_model_module_version": "1.2.0",
      "_model_name": "LayoutModel",
      "_view_count": null,
      "_view_module": "@jupyter-widgets/base",
      "_view_module_version": "1.2.0",
      "_view_name": "LayoutView",
      "align_content": null,
      "align_items": null,
      "align_self": null,
      "border": null,
      "bottom": null,
      "display": null,
      "flex": null,
      "flex_flow": null,
      "grid_area": null,
      "grid_auto_columns": null,
      "grid_auto_flow": null,
      "grid_auto_rows": null,
      "grid_column": null,
      "grid_gap": null,
      "grid_row": null,
      "grid_template_areas": null,
      "grid_template_columns": null,
      "grid_template_rows": null,
      "height": null,
      "justify_content": null,
      "justify_items": null,
      "left": null,
      "margin": null,
      "max_height": null,
      "max_width": null,
      "min_height": null,
      "min_width": null,
      "object_fit": null,
      "object_position": null,
      "order": null,
      "overflow": null,
      "overflow_x": null,
      "overflow_y": null,
      "padding": null,
      "right": null,
      "top": null,
      "visibility": null,
      "width": null
     }
    },
    "aa1d2ad1559b40b5a0d962f641fab92b": {
     "model_module": "@jupyter-widgets/controls",
     "model_name": "DescriptionStyleModel",
     "state": {
      "_model_module": "@jupyter-widgets/controls",
      "_model_module_version": "1.5.0",
      "_model_name": "DescriptionStyleModel",
      "_view_count": null,
      "_view_module": "@jupyter-widgets/base",
      "_view_module_version": "1.2.0",
      "_view_name": "StyleView",
      "description_width": ""
     }
    },
    "b559004e2a3c4917bf36fbe0e207a993": {
     "model_module": "@jupyter-widgets/controls",
     "model_name": "HBoxModel",
     "state": {
      "_dom_classes": [],
      "_model_module": "@jupyter-widgets/controls",
      "_model_module_version": "1.5.0",
      "_model_name": "HBoxModel",
      "_view_count": null,
      "_view_module": "@jupyter-widgets/controls",
      "_view_module_version": "1.5.0",
      "_view_name": "HBoxView",
      "box_style": "",
      "children": [
       "IPY_MODEL_43b7da2ec91d436ebba5e9045af64e45",
       "IPY_MODEL_095a1fec36ad43ecb0a69340135d0839"
      ],
      "layout": "IPY_MODEL_c7cf6829c41d4e0a9a42f9e301c9d035"
     }
    },
    "bfb7642b094a4055800c1e1e50d347ff": {
     "model_module": "@jupyter-widgets/controls",
     "model_name": "HTMLModel",
     "state": {
      "_dom_classes": [],
      "_model_module": "@jupyter-widgets/controls",
      "_model_module_version": "1.5.0",
      "_model_name": "HTMLModel",
      "_view_count": null,
      "_view_module": "@jupyter-widgets/controls",
      "_view_module_version": "1.5.0",
      "_view_name": "HTMLView",
      "description": "",
      "description_tooltip": null,
      "layout": "IPY_MODEL_97f25ff6ebbf4602829d04dd0c6e2505",
      "placeholder": "​",
      "style": "IPY_MODEL_103d832d5f6e4b41817160998e709095",
      "value": " 1654784/? [00:02&lt;00:00, 788866.09it/s]"
     }
    },
    "c23bdfb8094b4e1fbaee13ea8919bc98": {
     "model_module": "@jupyter-widgets/base",
     "model_name": "LayoutModel",
     "state": {
      "_model_module": "@jupyter-widgets/base",
      "_model_module_version": "1.2.0",
      "_model_name": "LayoutModel",
      "_view_count": null,
      "_view_module": "@jupyter-widgets/base",
      "_view_module_version": "1.2.0",
      "_view_name": "LayoutView",
      "align_content": null,
      "align_items": null,
      "align_self": null,
      "border": null,
      "bottom": null,
      "display": null,
      "flex": null,
      "flex_flow": null,
      "grid_area": null,
      "grid_auto_columns": null,
      "grid_auto_flow": null,
      "grid_auto_rows": null,
      "grid_column": null,
      "grid_gap": null,
      "grid_row": null,
      "grid_template_areas": null,
      "grid_template_columns": null,
      "grid_template_rows": null,
      "height": null,
      "justify_content": null,
      "justify_items": null,
      "left": null,
      "margin": null,
      "max_height": null,
      "max_width": null,
      "min_height": null,
      "min_width": null,
      "object_fit": null,
      "object_position": null,
      "order": null,
      "overflow": null,
      "overflow_x": null,
      "overflow_y": null,
      "padding": null,
      "right": null,
      "top": null,
      "visibility": null,
      "width": null
     }
    },
    "c7cf6829c41d4e0a9a42f9e301c9d035": {
     "model_module": "@jupyter-widgets/base",
     "model_name": "LayoutModel",
     "state": {
      "_model_module": "@jupyter-widgets/base",
      "_model_module_version": "1.2.0",
      "_model_name": "LayoutModel",
      "_view_count": null,
      "_view_module": "@jupyter-widgets/base",
      "_view_module_version": "1.2.0",
      "_view_name": "LayoutView",
      "align_content": null,
      "align_items": null,
      "align_self": null,
      "border": null,
      "bottom": null,
      "display": null,
      "flex": null,
      "flex_flow": null,
      "grid_area": null,
      "grid_auto_columns": null,
      "grid_auto_flow": null,
      "grid_auto_rows": null,
      "grid_column": null,
      "grid_gap": null,
      "grid_row": null,
      "grid_template_areas": null,
      "grid_template_columns": null,
      "grid_template_rows": null,
      "height": null,
      "justify_content": null,
      "justify_items": null,
      "left": null,
      "margin": null,
      "max_height": null,
      "max_width": null,
      "min_height": null,
      "min_width": null,
      "object_fit": null,
      "object_position": null,
      "order": null,
      "overflow": null,
      "overflow_x": null,
      "overflow_y": null,
      "padding": null,
      "right": null,
      "top": null,
      "visibility": null,
      "width": null
     }
    },
    "c8bb7a34a8ce4e6f80069f75f85c015e": {
     "model_module": "@jupyter-widgets/controls",
     "model_name": "HTMLModel",
     "state": {
      "_dom_classes": [],
      "_model_module": "@jupyter-widgets/controls",
      "_model_module_version": "1.5.0",
      "_model_name": "HTMLModel",
      "_view_count": null,
      "_view_module": "@jupyter-widgets/controls",
      "_view_module_version": "1.5.0",
      "_view_name": "HTMLView",
      "description": "",
      "description_tooltip": null,
      "layout": "IPY_MODEL_d619b55a886048dc95de4f0263183f1c",
      "placeholder": "​",
      "style": "IPY_MODEL_76ada2b264d748e7a73b4e80d3e257d5",
      "value": " 9920512/? [00:20&lt;00:00, 1527638.21it/s]"
     }
    },
    "d619b55a886048dc95de4f0263183f1c": {
     "model_module": "@jupyter-widgets/base",
     "model_name": "LayoutModel",
     "state": {
      "_model_module": "@jupyter-widgets/base",
      "_model_module_version": "1.2.0",
      "_model_name": "LayoutModel",
      "_view_count": null,
      "_view_module": "@jupyter-widgets/base",
      "_view_module_version": "1.2.0",
      "_view_name": "LayoutView",
      "align_content": null,
      "align_items": null,
      "align_self": null,
      "border": null,
      "bottom": null,
      "display": null,
      "flex": null,
      "flex_flow": null,
      "grid_area": null,
      "grid_auto_columns": null,
      "grid_auto_flow": null,
      "grid_auto_rows": null,
      "grid_column": null,
      "grid_gap": null,
      "grid_row": null,
      "grid_template_areas": null,
      "grid_template_columns": null,
      "grid_template_rows": null,
      "height": null,
      "justify_content": null,
      "justify_items": null,
      "left": null,
      "margin": null,
      "max_height": null,
      "max_width": null,
      "min_height": null,
      "min_width": null,
      "object_fit": null,
      "object_position": null,
      "order": null,
      "overflow": null,
      "overflow_x": null,
      "overflow_y": null,
      "padding": null,
      "right": null,
      "top": null,
      "visibility": null,
      "width": null
     }
    },
    "d83f73cd6b48425b888c2431e485d871": {
     "model_module": "@jupyter-widgets/base",
     "model_name": "LayoutModel",
     "state": {
      "_model_module": "@jupyter-widgets/base",
      "_model_module_version": "1.2.0",
      "_model_name": "LayoutModel",
      "_view_count": null,
      "_view_module": "@jupyter-widgets/base",
      "_view_module_version": "1.2.0",
      "_view_name": "LayoutView",
      "align_content": null,
      "align_items": null,
      "align_self": null,
      "border": null,
      "bottom": null,
      "display": null,
      "flex": null,
      "flex_flow": null,
      "grid_area": null,
      "grid_auto_columns": null,
      "grid_auto_flow": null,
      "grid_auto_rows": null,
      "grid_column": null,
      "grid_gap": null,
      "grid_row": null,
      "grid_template_areas": null,
      "grid_template_columns": null,
      "grid_template_rows": null,
      "height": null,
      "justify_content": null,
      "justify_items": null,
      "left": null,
      "margin": null,
      "max_height": null,
      "max_width": null,
      "min_height": null,
      "min_width": null,
      "object_fit": null,
      "object_position": null,
      "order": null,
      "overflow": null,
      "overflow_x": null,
      "overflow_y": null,
      "padding": null,
      "right": null,
      "top": null,
      "visibility": null,
      "width": null
     }
    },
    "dde321ffb3004f6884107197737a0e0b": {
     "model_module": "@jupyter-widgets/base",
     "model_name": "LayoutModel",
     "state": {
      "_model_module": "@jupyter-widgets/base",
      "_model_module_version": "1.2.0",
      "_model_name": "LayoutModel",
      "_view_count": null,
      "_view_module": "@jupyter-widgets/base",
      "_view_module_version": "1.2.0",
      "_view_name": "LayoutView",
      "align_content": null,
      "align_items": null,
      "align_self": null,
      "border": null,
      "bottom": null,
      "display": null,
      "flex": null,
      "flex_flow": null,
      "grid_area": null,
      "grid_auto_columns": null,
      "grid_auto_flow": null,
      "grid_auto_rows": null,
      "grid_column": null,
      "grid_gap": null,
      "grid_row": null,
      "grid_template_areas": null,
      "grid_template_columns": null,
      "grid_template_rows": null,
      "height": null,
      "justify_content": null,
      "justify_items": null,
      "left": null,
      "margin": null,
      "max_height": null,
      "max_width": null,
      "min_height": null,
      "min_width": null,
      "object_fit": null,
      "object_position": null,
      "order": null,
      "overflow": null,
      "overflow_x": null,
      "overflow_y": null,
      "padding": null,
      "right": null,
      "top": null,
      "visibility": null,
      "width": null
     }
    },
    "ebddeed037984916a38c5283aaa526d7": {
     "model_module": "@jupyter-widgets/base",
     "model_name": "LayoutModel",
     "state": {
      "_model_module": "@jupyter-widgets/base",
      "_model_module_version": "1.2.0",
      "_model_name": "LayoutModel",
      "_view_count": null,
      "_view_module": "@jupyter-widgets/base",
      "_view_module_version": "1.2.0",
      "_view_name": "LayoutView",
      "align_content": null,
      "align_items": null,
      "align_self": null,
      "border": null,
      "bottom": null,
      "display": null,
      "flex": null,
      "flex_flow": null,
      "grid_area": null,
      "grid_auto_columns": null,
      "grid_auto_flow": null,
      "grid_auto_rows": null,
      "grid_column": null,
      "grid_gap": null,
      "grid_row": null,
      "grid_template_areas": null,
      "grid_template_columns": null,
      "grid_template_rows": null,
      "height": null,
      "justify_content": null,
      "justify_items": null,
      "left": null,
      "margin": null,
      "max_height": null,
      "max_width": null,
      "min_height": null,
      "min_width": null,
      "object_fit": null,
      "object_position": null,
      "order": null,
      "overflow": null,
      "overflow_x": null,
      "overflow_y": null,
      "padding": null,
      "right": null,
      "top": null,
      "visibility": null,
      "width": null
     }
    },
    "f2f35779a0014ba295c3168585998064": {
     "model_module": "@jupyter-widgets/base",
     "model_name": "LayoutModel",
     "state": {
      "_model_module": "@jupyter-widgets/base",
      "_model_module_version": "1.2.0",
      "_model_name": "LayoutModel",
      "_view_count": null,
      "_view_module": "@jupyter-widgets/base",
      "_view_module_version": "1.2.0",
      "_view_name": "LayoutView",
      "align_content": null,
      "align_items": null,
      "align_self": null,
      "border": null,
      "bottom": null,
      "display": null,
      "flex": null,
      "flex_flow": null,
      "grid_area": null,
      "grid_auto_columns": null,
      "grid_auto_flow": null,
      "grid_auto_rows": null,
      "grid_column": null,
      "grid_gap": null,
      "grid_row": null,
      "grid_template_areas": null,
      "grid_template_columns": null,
      "grid_template_rows": null,
      "height": null,
      "justify_content": null,
      "justify_items": null,
      "left": null,
      "margin": null,
      "max_height": null,
      "max_width": null,
      "min_height": null,
      "min_width": null,
      "object_fit": null,
      "object_position": null,
      "order": null,
      "overflow": null,
      "overflow_x": null,
      "overflow_y": null,
      "padding": null,
      "right": null,
      "top": null,
      "visibility": null,
      "width": null
     }
    }
   }
  }
 },
 "nbformat": 4,
 "nbformat_minor": 1
}
